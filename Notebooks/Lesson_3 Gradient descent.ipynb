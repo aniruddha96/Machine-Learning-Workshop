{
 "cells": [
  {
   "cell_type": "markdown",
   "metadata": {},
   "source": [
    "# Gradient Descent\n",
    "Gradient descent is an optimization algorithm used to find the values of parameters (coefficients) of a function (f) that minimizes a cost function (cost).\n",
    "\n",
    "To understand these terms lets see a problem very similar to the two previously discussed problems:\n",
    "Given historical housing data,the task is to create a model that predicts the price of a new house given the house size.\n",
    "\n",
    "<img src=\"../Media/Images/historical-housing-data.png\">\n",
    "\n",
    "\n",
    "The task – for a new house, given its size (X), what will its price (Y) be?\n",
    "\n",
    "Lets start off by plotting the historical housing data:\n",
    "\n",
    "<img src=\"../Media/Images/house-prices.png\">\n",
    "\n",
    "\n"
   ]
  },
  {
   "cell_type": "code",
   "execution_count": null,
   "metadata": {},
   "outputs": [],
   "source": []
  },
  {
   "cell_type": "markdown",
   "metadata": {},
   "source": [
    "Now, we will use a simple linear model, where we fit a line on the historical data, to predict the price of a new house (Ypred) given its size (X)\n",
    "\n",
    "<img src=\"../Media/Images/prediction-error.png\">\n",
    "\n",
    "In the above chart, the red line gives the predicted house price (Ypred) given house size (X).\n",
    "\n",
    "Ypred = a+bX\n",
    "\n",
    "The blue line gives the actual house prices from historical data (Yactual)\n",
    "\n",
    "The difference between Yactual and Ypred (given by the yellow dashed lines) is the prediction error (E)\n",
    "\n",
    "So, we need to find a line with optimal values of a,b (called weights) that best fits the historical data by reducing the prediction error and improving prediction accuracy.\n",
    "\n",
    "So, our objective is to find optimal a, b that minimizes the error between actual and predicted values of house price (1/2 is for mathematical convenience since it helps in calculating gradients in calculus)"
   ]
  },
  {
   "cell_type": "code",
   "execution_count": null,
   "metadata": {},
   "outputs": [],
   "source": []
  },
  {
   "cell_type": "markdown",
   "metadata": {},
   "source": [
    "## Sum of Squared Errors \n",
    "\n",
    "Sum of Squared Errors (SSE) = ½ Sum (Actual House Price – Predicted House Price)^2\n",
    "\n",
    "=  ½ Sum((Y – Ypred)^2))\n",
    "\n",
    "(Please note that there are other measures of Error. SSE is just one of them.)\n",
    "\n",
    "This is where Gradient Descent comes into the picture. Gradient descent is an optimization algorithm that finds the optimal weights (a,b) that reduces  prediction error.\n",
    "\n",
    "Lets now go step by step to understand the Gradient Descent algorithm:\n",
    "\n",
    "Step 1: Initialize the weights(a & b) with random values and calculate Error (SSE)\n",
    "\n",
    "Step 2: Calculate the gradient i.e. change in SSE when the weights (a & b) are changed by a very small value from their original randomly initialized value. This helps us move the values of a & b in the direction in which SSE is minimized.\n",
    "\n",
    "Step 3: Adjust the weights with the gradients to reach the optimal values where SSE is minimized\n",
    "\n",
    "Step 4: Use the new weights for prediction and to calculate the new SSE\n",
    "\n",
    "Step 5: Repeat steps 2 and 3 till further adjustments to weights doesn’t significantly reduce the Error\n",
    "\n",
    "### Basically \n",
    "     repeat (till cost is minimized){\n",
    "         for any paramenter θ:\n",
    "         θ = θ - alpha(∂ SSE/∂θ)\n",
    "     }\n",
    "     \n",
    "     \n",
    "     \n",
    "Note: θ in our case are \"a\" and \"b\". alpha is the Learning Rate."
   ]
  },
  {
   "cell_type": "markdown",
   "metadata": {},
   "source": [
    "# Understanding gradient descent with one variable"
   ]
  },
  {
   "cell_type": "code",
   "execution_count": 3,
   "metadata": {},
   "outputs": [
    {
     "name": "stdout",
     "output_type": "stream",
     "text": [
      "Populating the interactive namespace from numpy and matplotlib\n"
     ]
    }
   ],
   "source": [
    "%matplotlib inline\n",
    "%pylab inline\n",
    "pylab.rcParams['figure.figsize'] = (15, 10)\n",
    "import matplotlib.pyplot as plt\n",
    "import matplotlib.lines as mlines"
   ]
  },
  {
   "cell_type": "code",
   "execution_count": 5,
   "metadata": {},
   "outputs": [],
   "source": [
    "def gd(lr,start,itr):\n",
    "  plt.plot(start,start**2,'yo')\n",
    "  new_x=start\n",
    "  old_x=start\n",
    "  for i in range(itr):\n",
    "    old_x=new_x\n",
    "    new_x=new_x-lr*(2*new_x)\n",
    "    print(\"y: %.2f \" % old_x)\n",
    "    plt.plot([old_x,new_x],[old_x**2,new_x**2],'r')\n",
    "  "
   ]
  },
  {
   "cell_type": "code",
   "execution_count": 8,
   "metadata": {},
   "outputs": [
    {
     "name": "stdout",
     "output_type": "stream",
     "text": [
      "y: -9.00 \n",
      "y: -3.60 \n",
      "y: -1.44 \n",
      "y: -0.58 \n",
      "y: -0.23 \n",
      "y: -0.09 \n",
      "y: -0.04 \n",
      "y: -0.01 \n",
      "y: -0.01 \n",
      "y: -0.00 \n"
     ]
    },
    {
     "data": {
      "image/png": "[encoded data removed]",
      "text/plain": [
       "<matplotlib.figure.Figure at 0x1ce46315898>"
      ]
     },
     "metadata": {},
     "output_type": "display_data"
    }
   ],
   "source": [
    "fig, ax = plt.subplots();\n",
    "x = np.linspace(-10, 10, 1000)\n",
    "plt.plot(x,x**2)\n",
    "gd(lr=0.3,start=-9,itr=10) \n",
    "#TASKS:\n",
    "# try gd(lr=1.1,start=-2,itr=6) \n",
    "# try gd(lr=0.3,start=9,itr=10) \n",
    "# try gd(lr=0.01,start=-9,itr=10) "
   ]
  },
  {
   "cell_type": "markdown",
   "metadata": {},
   "source": [
    "# Putting it all together"
   ]
  },
  {
   "cell_type": "markdown",
   "metadata": {},
   "source": [
    "![gdandlr](../Media/Gifs/gd_and_lr.gif)"
   ]
  },
  {
   "cell_type": "code",
   "execution_count": null,
   "metadata": {},
   "outputs": [],
   "source": []
  }
 ],
 "metadata": {
  "kernelspec": {
   "display_name": "Python 3",
   "language": "python",
   "name": "python3"
  },
  "language_info": {
   "codemirror_mode": {
    "name": "ipython",
    "version": 3
   },
   "file_extension": ".py",
   "mimetype": "text/x-python",
   "name": "python",
   "nbconvert_exporter": "python",
   "pygments_lexer": "ipython3",
   "version": "3.6.4"
  }
 },
 "nbformat": 4,
 "nbformat_minor": 2
}
